{
  "nbformat": 4,
  "nbformat_minor": 0,
  "metadata": {
    "colab": {
      "name": "Cartpole with Keras.ipynb",
      "version": "0.3.2",
      "provenance": []
    },
    "kernelspec": {
      "name": "python3",
      "display_name": "Python 3"
    },
    "accelerator": "GPU"
  },
  "cells": [
    {
      "metadata": {
        "id": "-hm87Pq-etJm",
        "colab_type": "text"
      },
      "cell_type": "markdown",
      "source": [
        "# RL in Google Colab\n",
        "\n",
        "In this notebook, we test an RL environment built on Google Colab."
      ]
    },
    {
      "metadata": {
        "id": "X2JqjkvpewAU",
        "colab_type": "text"
      },
      "cell_type": "markdown",
      "source": [
        "## Installing dependencies\n",
        "\n",
        "To run OpenAI gym on Google Colab, we need to install some packages for headless display."
      ]
    },
    {
      "metadata": {
        "id": "ixKfNTNjhKJi",
        "colab_type": "code",
        "outputId": "90e8ff3b-7919-4337-fe39-72cd42212ffc",
        "colab": {
          "base_uri": "https://localhost:8080/",
          "height": 341
        }
      },
      "cell_type": "code",
      "source": [
        "!apt-get install -y python-numpy python-dev cmake zlib1g-dev libjpeg-dev xvfb \\\n",
        "    xorg-dev python-opengl libboost-all-dev libsdl2-dev swig"
      ],
      "execution_count": 1,
      "outputs": [
        {
          "output_type": "stream",
          "text": [
            "Reading package lists... Done\n",
            "Building dependency tree       \n",
            "Reading state information... Done\n",
            "cmake is already the newest version (3.10.2-1ubuntu2).\n",
            "libjpeg-dev is already the newest version (8c-2ubuntu8).\n",
            "python-dev is already the newest version (2.7.15~rc1-1).\n",
            "python-numpy is already the newest version (1:1.13.3-2ubuntu1).\n",
            "zlib1g-dev is already the newest version (1:1.2.11.dfsg-0ubuntu2).\n",
            "libboost-all-dev is already the newest version (1.65.1.0ubuntu1).\n",
            "python-opengl is already the newest version (3.1.0+dfsg-1).\n",
            "swig is already the newest version (3.0.12-1).\n",
            "xorg-dev is already the newest version (1:7.7+19ubuntu7.1).\n",
            "libsdl2-dev is already the newest version (2.0.8+dfsg1-1ubuntu1.18.04.3).\n",
            "xvfb is already the newest version (2:1.19.6-1ubuntu4.2).\n",
            "The following package was automatically installed and is no longer required:\n",
            "  libnvidia-common-410\n",
            "Use 'apt autoremove' to remove it.\n",
            "0 upgraded, 0 newly installed, 0 to remove and 6 not upgraded.\n"
          ],
          "name": "stdout"
        }
      ]
    },
    {
      "metadata": {
        "id": "wLybWj47iDxn",
        "colab_type": "code",
        "colab": {
          "base_uri": "https://localhost:8080/",
          "height": 179
        },
        "outputId": "202a5339-e447-4dc8-8662-7006181a8f7b"
      },
      "cell_type": "code",
      "source": [
        "!pip install pyvirtualdisplay\n",
        "!pip install piglet"
      ],
      "execution_count": 2,
      "outputs": [
        {
          "output_type": "stream",
          "text": [
            "Requirement already satisfied: pyvirtualdisplay in /usr/local/lib/python3.6/dist-packages (0.2.1)\n",
            "Requirement already satisfied: EasyProcess in /usr/local/lib/python3.6/dist-packages (from pyvirtualdisplay) (0.2.5)\n",
            "Requirement already satisfied: piglet in /usr/local/lib/python3.6/dist-packages (0.4.4)\n",
            "Requirement already satisfied: astunparse in /usr/local/lib/python3.6/dist-packages (from piglet) (1.6.2)\n",
            "Requirement already satisfied: attrs in /usr/local/lib/python3.6/dist-packages (from piglet) (19.1.0)\n",
            "Requirement already satisfied: markupsafe in /usr/local/lib/python3.6/dist-packages (from piglet) (1.1.1)\n",
            "Requirement already satisfied: Parsley in /usr/local/lib/python3.6/dist-packages (from piglet) (1.3)\n",
            "Requirement already satisfied: wheel<1.0,>=0.23.0 in /usr/local/lib/python3.6/dist-packages (from astunparse->piglet) (0.33.1)\n",
            "Requirement already satisfied: six<2.0,>=1.6.1 in /usr/local/lib/python3.6/dist-packages (from astunparse->piglet) (1.11.0)\n"
          ],
          "name": "stdout"
        }
      ]
    },
    {
      "metadata": {
        "id": "S0ocIqSFiZIR",
        "colab_type": "text"
      },
      "cell_type": "markdown",
      "source": [
        "Now, let's make a virtual display."
      ]
    },
    {
      "metadata": {
        "id": "y26Tu_y6icgN",
        "colab_type": "code",
        "colab": {
          "base_uri": "https://localhost:8080/",
          "height": 35
        },
        "outputId": "8774ac2f-8844-497e-9b9a-c4e0e89bf819"
      },
      "cell_type": "code",
      "source": [
        "from pyvirtualdisplay import Display\n",
        "display = Display(visible=0, size=(1400, 900))\n",
        "display.start()"
      ],
      "execution_count": 3,
      "outputs": [
        {
          "output_type": "execute_result",
          "data": {
            "text/plain": [
              "<Display cmd_param=['Xvfb', '-br', '-nolisten', 'tcp', '-screen', '0', '1400x900x24', ':1013'] cmd=['Xvfb', '-br', '-nolisten', 'tcp', '-screen', '0', '1400x900x24', ':1013'] oserror=None return_code=None stdout=\"None\" stderr=\"None\" timeout_happened=False>"
            ]
          },
          "metadata": {
            "tags": []
          },
          "execution_count": 3
        }
      ]
    },
    {
      "metadata": {
        "id": "jasl17-EirN0",
        "colab_type": "text"
      },
      "cell_type": "markdown",
      "source": [
        "Install OpenAI gym."
      ]
    },
    {
      "metadata": {
        "id": "Fvi28NboiwOm",
        "colab_type": "code",
        "colab": {
          "base_uri": "https://localhost:8080/",
          "height": 485
        },
        "outputId": "d9b30d09-7c29-4e19-fe4e-d51796bf58c6"
      },
      "cell_type": "code",
      "source": [
        "!pip install gym\n",
        "!pip install gym[atari]"
      ],
      "execution_count": 4,
      "outputs": [
        {
          "output_type": "stream",
          "text": [
            "Requirement already satisfied: gym in /usr/local/lib/python3.6/dist-packages (0.10.11)\n",
            "Requirement already satisfied: scipy in /usr/local/lib/python3.6/dist-packages (from gym) (1.1.0)\n",
            "Requirement already satisfied: numpy>=1.10.4 in /usr/local/lib/python3.6/dist-packages (from gym) (1.14.6)\n",
            "Requirement already satisfied: requests>=2.0 in /usr/local/lib/python3.6/dist-packages (from gym) (2.18.4)\n",
            "Requirement already satisfied: six in /usr/local/lib/python3.6/dist-packages (from gym) (1.11.0)\n",
            "Requirement already satisfied: pyglet>=1.2.0 in /usr/local/lib/python3.6/dist-packages (from gym) (1.3.2)\n",
            "Requirement already satisfied: chardet<3.1.0,>=3.0.2 in /usr/local/lib/python3.6/dist-packages (from requests>=2.0->gym) (3.0.4)\n",
            "Requirement already satisfied: urllib3<1.23,>=1.21.1 in /usr/local/lib/python3.6/dist-packages (from requests>=2.0->gym) (1.22)\n",
            "Requirement already satisfied: certifi>=2017.4.17 in /usr/local/lib/python3.6/dist-packages (from requests>=2.0->gym) (2019.3.9)\n",
            "Requirement already satisfied: idna<2.7,>=2.5 in /usr/local/lib/python3.6/dist-packages (from requests>=2.0->gym) (2.6)\n",
            "Requirement already satisfied: future in /usr/local/lib/python3.6/dist-packages (from pyglet>=1.2.0->gym) (0.16.0)\n",
            "Requirement already satisfied: gym[atari] in /usr/local/lib/python3.6/dist-packages (0.10.11)\n",
            "Requirement already satisfied: scipy in /usr/local/lib/python3.6/dist-packages (from gym[atari]) (1.1.0)\n",
            "Requirement already satisfied: numpy>=1.10.4 in /usr/local/lib/python3.6/dist-packages (from gym[atari]) (1.14.6)\n",
            "Requirement already satisfied: requests>=2.0 in /usr/local/lib/python3.6/dist-packages (from gym[atari]) (2.18.4)\n",
            "Requirement already satisfied: six in /usr/local/lib/python3.6/dist-packages (from gym[atari]) (1.11.0)\n",
            "Requirement already satisfied: pyglet>=1.2.0 in /usr/local/lib/python3.6/dist-packages (from gym[atari]) (1.3.2)\n",
            "Requirement already satisfied: atari_py>=0.1.4 in /usr/local/lib/python3.6/dist-packages (from gym[atari]) (0.1.7)\n",
            "Requirement already satisfied: Pillow in /usr/local/lib/python3.6/dist-packages (from gym[atari]) (4.1.1)\n",
            "Requirement already satisfied: PyOpenGL in /usr/local/lib/python3.6/dist-packages (from gym[atari]) (3.1.0)\n",
            "Requirement already satisfied: idna<2.7,>=2.5 in /usr/local/lib/python3.6/dist-packages (from requests>=2.0->gym[atari]) (2.6)\n",
            "Requirement already satisfied: urllib3<1.23,>=1.21.1 in /usr/local/lib/python3.6/dist-packages (from requests>=2.0->gym[atari]) (1.22)\n",
            "Requirement already satisfied: chardet<3.1.0,>=3.0.2 in /usr/local/lib/python3.6/dist-packages (from requests>=2.0->gym[atari]) (3.0.4)\n",
            "Requirement already satisfied: certifi>=2017.4.17 in /usr/local/lib/python3.6/dist-packages (from requests>=2.0->gym[atari]) (2019.3.9)\n",
            "Requirement already satisfied: future in /usr/local/lib/python3.6/dist-packages (from pyglet>=1.2.0->gym[atari]) (0.16.0)\n",
            "Requirement already satisfied: olefile in /usr/local/lib/python3.6/dist-packages (from Pillow->gym[atari]) (0.46)\n"
          ],
          "name": "stdout"
        }
      ]
    },
    {
      "metadata": {
        "id": "g-Q92uuhjzo1",
        "colab_type": "text"
      },
      "cell_type": "markdown",
      "source": [
        "## Utility functions\n",
        "\n",
        "To show the gameplay in this notebook, we have to write some utility functions. ([Source](https://colab.research.google.com/drive/1uirpYPbh4EJX9PDXeVrZuB4cr7_lwGGX))\n",
        "\n",
        "FIrst, import libraries."
      ]
    },
    {
      "metadata": {
        "id": "uBtDK_Frky0L",
        "colab_type": "code",
        "colab": {}
      },
      "cell_type": "code",
      "source": [
        "from base64 import b64encode\n",
        "from glob import glob\n",
        "from IPython.display import HTML\n",
        "from IPython import display as ipy_display\n",
        "from gym import logger as gym_logger\n",
        "from gym.wrappers import Monitor"
      ],
      "execution_count": 0,
      "outputs": []
    },
    {
      "metadata": {
        "id": "L_SCs5k93Xe-",
        "colab_type": "text"
      },
      "cell_type": "markdown",
      "source": [
        "Set the log level to show errors only."
      ]
    },
    {
      "metadata": {
        "id": "_bKTCc5g3fvO",
        "colab_type": "code",
        "colab": {}
      },
      "cell_type": "code",
      "source": [
        "gym_logger.set_level(40)"
      ],
      "execution_count": 0,
      "outputs": []
    },
    {
      "metadata": {
        "id": "rl76oEVj3tvD",
        "colab_type": "text"
      },
      "cell_type": "markdown",
      "source": [
        "Next, write some functions."
      ]
    },
    {
      "metadata": {
        "id": "GUUUfQAS30df",
        "colab_type": "code",
        "colab": {}
      },
      "cell_type": "code",
      "source": [
        "def show_video():\n",
        "    mp4_list = glob('video/*.mp4')\n",
        "    if mp4_list:\n",
        "        mp4 = mp4_list[0]\n",
        "        video = open(mp4, 'r+b').read()\n",
        "        encoded = b64encode(video)\n",
        "        ipy_display.display(HTML(data='''\n",
        "            <video alt=\"gameplay\" autoplay controls style=\"height: 400px;\">\n",
        "                <source src=\"data:video/mp4;base64,%s\" type=\"video/mp4\" />\n",
        "            </video>\n",
        "        ''' % (encoded.decode('ascii'))))\n",
        "    else:\n",
        "        print('No video found')\n",
        "\n",
        "def wrap_env(env):\n",
        "    env = Monitor(env, './video', force=True)\n",
        "    return env"
      ],
      "execution_count": 0,
      "outputs": []
    },
    {
      "metadata": {
        "id": "BLebNw33oDHf",
        "colab_type": "text"
      },
      "cell_type": "markdown",
      "source": [
        "## Playing cartpole"
      ]
    },
    {
      "metadata": {
        "id": "Jh-XVMPxoJew",
        "colab_type": "code",
        "colab": {
          "base_uri": "https://localhost:8080/",
          "height": 438
        },
        "outputId": "363eee8e-7c15-4fca-ec50-b2f771cb54ee"
      },
      "cell_type": "code",
      "source": [
        "import gym\n",
        "\n",
        "env = wrap_env(gym.make('MountainCar-v0'))\n",
        "print(env.action_space)\n",
        "observation = env.reset()\n",
        "\n",
        "for i in range(1000):\n",
        "    env.render()\n",
        "    observation, reward, done, info = env.step(0 if i % 4 < 2 else 2)\n",
        "    if done:\n",
        "        break\n",
        "\n",
        "env.close()\n",
        "show_video()"
      ],
      "execution_count": 8,
      "outputs": [
        {
          "output_type": "stream",
          "text": [
            "Discrete(3)\n"
          ],
          "name": "stdout"
        },
        {
          "output_type": "display_data",
          "data": {
            "text/html": [
              "\n",
              "            <video alt=\"gameplay\" autoplay controls style=\"height: 400px;\">\n",
              "                <source src=\"data:video/mp4;base64,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\" type=\"video/mp4\" />\n",
              "            </video>\n",
              "        "
            ],
            "text/plain": [
              "<IPython.core.display.HTML object>"
            ]
          },
          "metadata": {
            "tags": []
          }
        }
      ]
    }
  ]
}